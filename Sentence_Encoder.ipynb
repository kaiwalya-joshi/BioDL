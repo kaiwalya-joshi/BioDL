{
  "metadata": {
    "kernelspec": {
      "language": "python",
      "display_name": "Python 3",
      "name": "python3"
    },
    "language_info": {
      "name": "python",
      "version": "3.10.13",
      "mimetype": "text/x-python",
      "codemirror_mode": {
        "name": "ipython",
        "version": 3
      },
      "pygments_lexer": "ipython3",
      "nbconvert_exporter": "python",
      "file_extension": ".py"
    },
    "kaggle": {
      "accelerator": "none",
      "dataSources": [
        {
          "sourceId": 8082154,
          "sourceType": "datasetVersion",
          "datasetId": 4770453
        },
        {
          "sourceId": 8084541,
          "sourceType": "datasetVersion",
          "datasetId": 4772218
        }
      ],
      "dockerImageVersionId": 30683,
      "isInternetEnabled": true,
      "language": "python",
      "sourceType": "notebook",
      "isGpuEnabled": false
    },
    "colab": {
      "provenance": []
    }
  },
  "nbformat_minor": 0,
  "nbformat": 4,
  "cells": [
    {
      "cell_type": "code",
      "source": [
        "import torch\n",
        "import pickle\n",
        "import pandas as pd\n",
        "import random\n",
        "import os\n",
        "import numpy as np\n",
        "import statistics\n",
        "import matplotlib.pyplot as plt\n",
        "import pickle"
      ],
      "metadata": {
        "execution": {
          "iopub.status.busy": "2024-04-10T16:50:54.245408Z",
          "iopub.execute_input": "2024-04-10T16:50:54.245742Z",
          "iopub.status.idle": "2024-04-10T16:50:59.063185Z",
          "shell.execute_reply.started": "2024-04-10T16:50:54.245717Z",
          "shell.execute_reply": "2024-04-10T16:50:59.062407Z"
        },
        "trusted": true,
        "id": "yCJ2lnz7No27"
      },
      "execution_count": null,
      "outputs": []
    },
    {
      "cell_type": "code",
      "source": [
        "!pip install transformers\n",
        "!wget -O scibert_uncased.tar https://github.com/naver/biobert-pretrained/releases/download/v1.1-pubmed/biobert_v1.1_pubmed.tar.gz\n",
        "!tar -xvf scibert_uncased.tar\n",
        "\n",
        "import torch\n",
        "from transformers import BertTokenizer, BertModel\n",
        "import argparse\n",
        "import logging\n",
        "\n",
        "import torch\n",
        "\n",
        "from transformers import BertConfig, BertForPreTraining, load_tf_weights_in_bert\n",
        "\n",
        "\n",
        "logging.basicConfig(level=logging.INFO)\n",
        "\n",
        "\n",
        "def convert_tf_checkpoint_to_pytorch(tf_checkpoint_path, bert_config_file, pytorch_dump_path):\n",
        "    # Initialise PyTorch model\n",
        "    config = BertConfig.from_json_file(bert_config_file)\n",
        "    print(\"Building PyTorch model from configuration: {}\".format(str(config)))\n",
        "    model = BertForPreTraining(config)\n",
        "\n",
        "    # Load weights from tf checkpoint\n",
        "    load_tf_weights_in_bert(model, config, tf_checkpoint_path)\n",
        "\n",
        "    # Save pytorch-model\n",
        "    print(\"Save PyTorch model to {}\".format(pytorch_dump_path))\n",
        "    torch.save(model.state_dict(), pytorch_dump_path)\n",
        "convert_tf_checkpoint_to_pytorch(\"biobert_v1.1_pubmed/model.ckpt-1000000\", \"biobert_v1.1_pubmed/bert_config.json\", \"biobert_v1.1_pubmed/pytorch_model.bin\")"
      ],
      "metadata": {
        "execution": {
          "iopub.status.busy": "2024-04-10T16:51:23.507264Z",
          "iopub.execute_input": "2024-04-10T16:51:23.508111Z",
          "iopub.status.idle": "2024-04-10T16:52:02.545829Z",
          "shell.execute_reply.started": "2024-04-10T16:51:23.508079Z",
          "shell.execute_reply": "2024-04-10T16:52:02.544896Z"
        },
        "trusted": true,
        "id": "eLRs-1gfNo28"
      },
      "execution_count": null,
      "outputs": []
    },
    {
      "cell_type": "code",
      "source": [
        "device = 'cuda' if torch.cuda.is_available() else 'cpu'\n",
        "device"
      ],
      "metadata": {
        "execution": {
          "iopub.status.busy": "2024-04-10T17:02:08.631818Z",
          "iopub.execute_input": "2024-04-10T17:02:08.632673Z",
          "iopub.status.idle": "2024-04-10T17:02:08.638601Z",
          "shell.execute_reply.started": "2024-04-10T17:02:08.632641Z",
          "shell.execute_reply": "2024-04-10T17:02:08.637678Z"
        },
        "trusted": true,
        "id": "B_Fz3MUzNo29"
      },
      "execution_count": null,
      "outputs": []
    },
    {
      "cell_type": "code",
      "source": [
        "!ls biobert_v1.1_pubmed\n",
        "!mv biobert_v1.1_pubmed/bert_config.json biobert_v1.1_pubmed/config.json\n",
        "!ls biobert_v1.1_pubmed\n",
        "model_version = 'biobert_v1.1_pubmed'\n",
        "do_lower_case = True\n",
        "model = BertModel.from_pretrained(model_version).to(device)\n",
        "tokenizer = BertTokenizer.from_pretrained(model_version, do_lower_case=do_lower_case)\n",
        "model.eval()"
      ],
      "metadata": {
        "execution": {
          "iopub.status.busy": "2024-04-10T17:02:09.429759Z",
          "iopub.execute_input": "2024-04-10T17:02:09.430750Z",
          "iopub.status.idle": "2024-04-10T17:02:13.388027Z",
          "shell.execute_reply.started": "2024-04-10T17:02:09.430716Z",
          "shell.execute_reply": "2024-04-10T17:02:13.386904Z"
        },
        "trusted": true,
        "id": "s2x2i9TyNo29"
      },
      "execution_count": null,
      "outputs": []
    },
    {
      "cell_type": "code",
      "source": [
        "from sklearn.metrics.pairwise import cosine_similarity\n",
        "def embed_text(text, model):\n",
        "    input_ids = torch.tensor(tokenizer.encode(text)).unsqueeze(0)  # Batch size 1\n",
        "    # print(input_ids.shape)\n",
        "    outputs = model(input_ids)\n",
        "    last_hidden_states = outputs[0].mean(1)  # The last hidden-state is the first element of the output tuple\n",
        "    # print(last_hidden_states.shape)\n",
        "    return last_hidden_states\n",
        "\n",
        "def embed_long_text(text, model):\n",
        "    input_ids = torch.tensor(tokenizer.encode(text)).unsqueeze(0)  # [1,number of tokens]\n",
        "    chunks = input_ids.split(512, dim=1)\n",
        "    embedding = torch.zeros(1, 768).to(device)\n",
        "    for index, chunk in enumerate(chunks):\n",
        "#         print(f'chunk : {index}/{len(chunks)-1}')\n",
        "        with torch.no_grad():\n",
        "            outputs = model(chunk.to(device))\n",
        "        embedding += outputs[0].mean(1) # [1,768]\n",
        "    return (embedding/len(chunks)).float()\n",
        "\n",
        "# def get_similarity(em, em2):\n",
        "#     return cosine_similarity(em.detach().numpy(), em2.detach().numpy()"
      ],
      "metadata": {
        "execution": {
          "iopub.status.busy": "2024-04-10T17:01:27.485878Z",
          "iopub.execute_input": "2024-04-10T17:01:27.486218Z",
          "iopub.status.idle": "2024-04-10T17:01:28.491626Z",
          "shell.execute_reply.started": "2024-04-10T17:01:27.486194Z",
          "shell.execute_reply": "2024-04-10T17:01:28.490121Z"
        },
        "trusted": true,
        "id": "DQhS03MHNo29"
      },
      "execution_count": null,
      "outputs": []
    },
    {
      "cell_type": "code",
      "source": [
        "dir = '/content/drive/MyDrive/mimic-iii-clinical-database-1.4/Merged_files/sentences.csv'\n",
        "d = pd.read_csv(dir, lineterminator='\\n', index_col=0)\n",
        "d.head()"
      ],
      "metadata": {
        "execution": {
          "iopub.status.busy": "2024-04-10T17:00:50.612083Z",
          "iopub.execute_input": "2024-04-10T17:00:50.612831Z",
          "iopub.status.idle": "2024-04-10T17:01:05.147318Z",
          "shell.execute_reply.started": "2024-04-10T17:00:50.612800Z",
          "shell.execute_reply": "2024-04-10T17:01:05.146485Z"
        },
        "trusted": true,
        "id": "WXdzRIBmNo2-"
      },
      "execution_count": null,
      "outputs": []
    },
    {
      "cell_type": "code",
      "source": [
        "df = d[d['TEXT'].apply(lambda x: len(x.split())) < 3915].reset_index()"
      ],
      "metadata": {
        "execution": {
          "iopub.status.busy": "2024-04-10T17:04:54.908699Z",
          "iopub.execute_input": "2024-04-10T17:04:54.909552Z",
          "iopub.status.idle": "2024-04-10T17:05:00.928797Z",
          "shell.execute_reply.started": "2024-04-10T17:04:54.909511Z",
          "shell.execute_reply": "2024-04-10T17:05:00.927692Z"
        },
        "trusted": true,
        "id": "w0DAKtcDNo2-"
      },
      "execution_count": null,
      "outputs": []
    },
    {
      "cell_type": "code",
      "source": [
        "df.drop('index', inplace=True)\n",
        "df.head()"
      ],
      "metadata": {
        "execution": {
          "iopub.status.busy": "2024-04-10T17:08:57.673067Z",
          "iopub.execute_input": "2024-04-10T17:08:57.673422Z",
          "iopub.status.idle": "2024-04-10T17:08:57.775624Z",
          "shell.execute_reply.started": "2024-04-10T17:08:57.673395Z",
          "shell.execute_reply": "2024-04-10T17:08:57.774292Z"
        },
        "trusted": true,
        "id": "9uxudYwfNo2_"
      },
      "execution_count": null,
      "outputs": []
    },
    {
      "cell_type": "code",
      "source": [
        "stored_embb_temp = {\n",
        "    \"GENDER\": {},\n",
        "    \"AGE\": {},\n",
        "    \"RELIGION\": {},\n",
        "    \"ETHNICITY\": {},\n",
        "    \"ADMISSION_TYPE\": {},\n",
        "    \"ADMISSION_LOCATION\": {},\n",
        "    \"DISCHARGE_LOCATION\": {}\n",
        "}\n",
        "\n",
        "available_sentences = {\n",
        "    \"GENDER\": {},\n",
        "    \"AGE\": {},\n",
        "    \"RELIGION\": {},\n",
        "    \"ETHNICITY\": {},\n",
        "    \"ADMISSION_TYPE\": {},\n",
        "    \"ADMISSION_LOCATION\": {},\n",
        "    \"DISCHARGE_LOCATION\": {}\n",
        "}\n",
        "\n",
        "available = {\n",
        "    \"HADM_ID\": False,\n",
        "    \"SUBJECT_ID\": False,\n",
        "    \"GENDER\": True,\n",
        "    \"AGE\": True,\n",
        "    \"RELIGION\": True,\n",
        "    \"ETHNICITY\": True,\n",
        "    \"ADMISSION_TYPE\": True,\n",
        "    \"ADMISSION_LOCATION\": True,\n",
        "    \"DIAGNOSIS\": False,\n",
        "    \"PROCEDURE\": False,\n",
        "    \"CATEGORY\": False,\n",
        "    \"DESCRIPTION\": False,\n",
        "    \"TEXT\": False,\n",
        "    \"DISCHARGE_LOCATION\": True\n",
        "}"
      ],
      "metadata": {
        "execution": {
          "iopub.status.busy": "2024-04-10T17:05:32.548660Z",
          "iopub.execute_input": "2024-04-10T17:05:32.549447Z",
          "iopub.status.idle": "2024-04-10T17:05:32.558276Z",
          "shell.execute_reply.started": "2024-04-10T17:05:32.549415Z",
          "shell.execute_reply": "2024-04-10T17:05:32.557343Z"
        },
        "trusted": true,
        "id": "VY8diCMjNo2_"
      },
      "execution_count": null,
      "outputs": []
    },
    {
      "cell_type": "code",
      "source": [
        "for column in available_sentences.keys():\n",
        "    uniques = df[column].unique()\n",
        "    for unique in uniques:\n",
        "        available_sentences[column][unique] = True\n",
        "        stored_embb_temp[column][unique] = embed_long_text(unique, model).to('cpu')"
      ],
      "metadata": {
        "execution": {
          "iopub.status.busy": "2024-04-10T17:09:45.473954Z",
          "iopub.execute_input": "2024-04-10T17:09:45.474310Z",
          "iopub.status.idle": "2024-04-10T17:09:51.959917Z",
          "shell.execute_reply.started": "2024-04-10T17:09:45.474281Z",
          "shell.execute_reply": "2024-04-10T17:09:51.959135Z"
        },
        "trusted": true,
        "id": "y3MUxpCnNo2_"
      },
      "execution_count": null,
      "outputs": []
    },
    {
      "cell_type": "code",
      "source": [
        "columns = list(df.columns[:-2])\n",
        "columns.remove('index')\n",
        "count = 0"
      ],
      "metadata": {
        "execution": {
          "iopub.status.busy": "2024-04-10T17:09:53.648334Z",
          "iopub.execute_input": "2024-04-10T17:09:53.648717Z",
          "iopub.status.idle": "2024-04-10T17:09:53.653559Z",
          "shell.execute_reply.started": "2024-04-10T17:09:53.648690Z",
          "shell.execute_reply": "2024-04-10T17:09:53.652601Z"
        },
        "trusted": true,
        "id": "h2Bfkwu1No2_"
      },
      "execution_count": null,
      "outputs": []
    },
    {
      "cell_type": "code",
      "source": [
        "import json\n",
        "for index, row in df.iterrows():\n",
        "    print(index)\n",
        "    temp_list = []\n",
        "    for column in columns:\n",
        "        torch.cuda.empty_cache()\n",
        "        if available[column]:\n",
        "            temp_list.append(stored_embb_temp[column][row[column]])\n",
        "        else:\n",
        "            temp_list.append(embed_long_text(row[column], model).to('cpu'))\n",
        "    temp_list = torch.cat(temp_list, dim=0)\n",
        "    with open('/content/drive/MyDrive/mimic-iii-clinical-database-1.4/embeddings/data.json', 'a') as f:\n",
        "        json.dump({index: temp_list.tolist()}, f)\n",
        "        f.write('\\n')\n",
        "    with open('/content/drive/MyDrive/mimic-iii-clinical-database-1.4/embeddings/target_los.json', 'a') as f:\n",
        "        json.dump({index: row['LOS']}, f)\n",
        "        f.write('\\n')\n",
        "    with open('/content/drive/MyDrive/mimic-iii-clinical-database-1.4/embeddings/target_jm.json', 'a') as f:\n",
        "        json.dump({index: row['HOSPITAL_EXPIRE_FLAG']}, f)\n",
        "        f.write('\\n')\n",
        "    del temp_list"
      ],
      "metadata": {
        "execution": {
          "iopub.status.busy": "2024-04-10T17:09:57.467753Z",
          "iopub.execute_input": "2024-04-10T17:09:57.468087Z",
          "iopub.status.idle": "2024-04-10T18:08:22.920104Z",
          "shell.execute_reply.started": "2024-04-10T17:09:57.468064Z",
          "shell.execute_reply": "2024-04-10T18:08:22.919189Z"
        },
        "trusted": true,
        "id": "EKN_ws7-No3A"
      },
      "execution_count": null,
      "outputs": []
    },
    {
      "cell_type": "code",
      "source": [],
      "metadata": {
        "id": "JvA0tl2-No3A"
      },
      "execution_count": null,
      "outputs": []
    }
  ]
}